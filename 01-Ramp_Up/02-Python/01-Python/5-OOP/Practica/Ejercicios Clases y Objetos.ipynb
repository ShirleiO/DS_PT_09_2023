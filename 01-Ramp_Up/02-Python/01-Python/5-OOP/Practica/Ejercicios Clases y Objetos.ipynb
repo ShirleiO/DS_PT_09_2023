{
 "cells": [
  {
   "cell_type": "markdown",
   "metadata": {},
   "source": [
    "![imagen](./img/ejercicios.png)\n",
    "\n",
    "# Ejercicios Clases y Objetos"
   ]
  },
  {
   "cell_type": "markdown",
   "metadata": {},
   "source": [
    "## Ejercicio 1\n",
    "Somos una empresa que tiene varias tiendas de electrodomesticos. Necesitamos un programa para manejar las tiendas, ver las ventas que han tenido, cuántos empleados hay, etc... Para ello vamos a modelizar la tienda en una clase, que tendrá las siguientes características:\n",
    "* Nombre clase: \"Tienda\"\n",
    "* Atributos comunes:\n",
    "    * Tipo: \"Electrodomésticos\"\n",
    "    * Abierta: True\n",
    "* Atributos propios de cada tienda:\n",
    "    * Nombre - String\n",
    "    * Dirección - String\n",
    "    * Número de empleados - int\n",
    "    * Ventas ultimos 3 meses - Lista de 3 numeros\n",
    "* Método para calcular las ventas de todos los meses, que devuelva un numero con todas las ventas.\n",
    "* Método que calcula la media de ventas de los ultimos meses, por empleado\n",
    "* Método que devuelve en un string el nombre de la tienda, junto con su dirección.\n",
    "* Método que obtiene las ventas del último mes.\n",
    "* Método para dar una proyección de las ventas en caso de haber invertido X dinero en marketing en esa tienda. Siendo X el parámetro de entrada. Si X es menor de 1000, las ventas de los ultimos 3 meses hubiesen sido de (1.2 x ventas), si es mayor o igual de 1000, las ventas hubiesen sido de (1.5 x venta). El método reescribe el atributo de ventas en los últimos 3 meses, y además devuelve las ventas con el aumento.\n",
    "\n",
    "Se pide:\n",
    "1. Implementar la clase \"Tienda\"\n",
    "2. Crear tres tiendas con datos inventados\n",
    "3. Comprueba en al menos una de ellas, todo lo implementado en la clase tienda (sus atributos, media de ventas, ventas/empleado...)\n",
    "3. Calcular las ventas del último mes de todas las tiendas. Para ello usa el bucle `for`\n",
    "4. Imprime por pantalla los nombres de las tiendas cuya dirección lleve el string \"Avenida\"\n",
    "5. Seguro que ya has hecho este apartado... Documenta la clase :)"
   ]
  },
  {
   "cell_type": "code",
   "execution_count": 437,
   "metadata": {},
   "outputs": [],
   "source": [
    "class Tienda:\n",
    "    tipo = \"Electrodomestico\"\n",
    "    abierta = True\n",
    "    _registry = []\n",
    "    \n",
    "    def __init__(self, nombre:str, direccion:str, numero_empleados: int, ventas_ultimos_3_meses = list,):\n",
    "        self._registry.append(ventas_ultimos_3_meses[-1])\n",
    "        self.nombre = nombre\n",
    "        self.direccion = direccion\n",
    "        self.numero_empleados = numero_empleados\n",
    "        self.ventas_ultimos_3_meses = ventas_ultimos_3_meses\n",
    "\n",
    "    def calcular_ventas (self): #calcula (suma) el total de todas las ventas\n",
    "        return (sum(self.ventas_ultimos_3_meses))       \n",
    "\n",
    "    def media_por_empleado (self): #devuelva la media de ventas por empleado\n",
    "         return self.calcular_ventas() / self.numero_empleados\n",
    "        \n",
    "    def nombre_tienda (self):\n",
    "        return str(self.nombre) + \" está ubicada en: \"+ str(self.direccion)\n",
    "    \n",
    "    def ventas_ultimo_mes (self):  #devuelva las ventas del último mes\n",
    "        return self.ventas_ultimos_3_meses[-1]\n",
    "            \n",
    "    def proyeccion_ventas (self, x_inversion)-> float:\n",
    "        \n",
    "        if x_inversion < 1000:\n",
    "            self.ventas_ultimos_3_meses = [1.2 * x for x in self.ventas_ultimos_3_meses]\n",
    "            return self.ventas_ultimos_3_meses\n",
    "                    \n",
    "        elif x_inversion >= 1000:\n",
    "            self.ventas_ultimos_3_meses = [1.5 * x for x in self.ventas_ultimos_3_meses]\n",
    "            return self.ventas_ultimos_3_meses\n",
    "        \n",
    "    #def ultimo_mes_todas (self):\n",
    "    #    i = 0\n",
    "    #    for i in Tienda:\n",
    "    #        return(self.nombre)\n",
    "\n"
   ]
  },
  {
   "cell_type": "code",
   "execution_count": 438,
   "metadata": {},
   "outputs": [
    {
     "name": "stdout",
     "output_type": "stream",
     "text": [
      "<class 'type'>\n"
     ]
    }
   ],
   "source": [
    "print(type(Tienda))\n",
    "tienda_1 = Tienda(\"MediaMark\", \"Avenida en Madrid\", 500, [350,1500,801])\n",
    "tienda_2 = Tienda(\"Tienda de Electrodomesticos Pepe\", \"Calle de la Libertad\", 9, [150,60,242])\n",
    "tienda_3 = Tienda(\"Al Campo\", \"Avenida Bartolomeo 5\", 1500, [1095,3841,2543])\n"
   ]
  },
  {
   "cell_type": "code",
   "execution_count": 447,
   "metadata": {},
   "outputs": [
    {
     "name": "stdout",
     "output_type": "stream",
     "text": [
      "801\n",
      "242\n",
      "2543\n",
      "3586\n"
     ]
    }
   ],
   "source": [
    "#print(tienda_3.ventas_ultimo_mes())   # \n",
    "suma_mes_anterior = 0\n",
    "for p in Tienda._registry:\n",
    "    print(p)\n",
    "    suma_mes_anterior = suma_mes_anterior + p\n",
    "\n",
    "print(suma_mes_anterior)"
   ]
  },
  {
   "cell_type": "code",
   "execution_count": 454,
   "metadata": {},
   "outputs": [
    {
     "ename": "AttributeError",
     "evalue": "'Tienda' object has no attribute '__getitem__'",
     "output_type": "error",
     "traceback": [
      "\u001b[1;31m---------------------------------------------------------------------------\u001b[0m",
      "\u001b[1;31mAttributeError\u001b[0m                            Traceback (most recent call last)",
      "\u001b[1;32mc:\\Users\\shirl\\OneDrive\\Documents\\GitHub\\DS_PT_09_2023\\01-Ramp_Up\\02-Python\\01-Python\\5-OOP\\Practica\\Ejercicios Clases y Objetos.ipynb Cell 6\u001b[0m line \u001b[0;36m3\n\u001b[0;32m      <a href='vscode-notebook-cell:/c%3A/Users/shirl/OneDrive/Documents/GitHub/DS_PT_09_2023/01-Ramp_Up/02-Python/01-Python/5-OOP/Practica/Ejercicios%20Clases%20y%20Objetos.ipynb#X33sZmlsZQ%3D%3D?line=0'>1</a>\u001b[0m \u001b[39mfrom\u001b[39;00m \u001b[39mcollections\u001b[39;00m\u001b[39m.\u001b[39;00m\u001b[39mabc\u001b[39;00m \u001b[39mimport\u001b[39;00m Sequence\n\u001b[1;32m----> <a href='vscode-notebook-cell:/c%3A/Users/shirl/OneDrive/Documents/GitHub/DS_PT_09_2023/01-Ramp_Up/02-Python/01-Python/5-OOP/Practica/Ejercicios%20Clases%20y%20Objetos.ipynb#X33sZmlsZQ%3D%3D?line=2'>3</a>\u001b[0m tienda_1\u001b[39m.\u001b[39;49m\u001b[39m__getitem__\u001b[39;49m(\u001b[39m\"\u001b[39m\u001b[39mAvenida\u001b[39m\u001b[39m\"\u001b[39m)\n",
      "\u001b[1;31mAttributeError\u001b[0m: 'Tienda' object has no attribute '__getitem__'"
     ]
    }
   ],
   "source": [
    "from collections.abc import Sequence\n",
    "\n",
    "tienda_1.__getitem__(\"Avenida\")"
   ]
  },
  {
   "cell_type": "code",
   "execution_count": 392,
   "metadata": {},
   "outputs": [
    {
     "name": "stdout",
     "output_type": "stream",
     "text": [
      "\n",
      "        Clase Tienda con parametrors:\n",
      "        tipo: el tipo de productos que se vende en la tienda \n",
      "        abierta: determinada como True\n",
      "    \n",
      "\n",
      "        Documentacion del init:\n",
      "        nombre = nombre de la tienda que se agrega a cada tienda nueva\n",
      "        direccion = direccion de la tienda que se agrega a cada tienda nueva\n",
      "        numero de empleados = empleado de la tienda que se agrega a cada tienda nueva\n",
      "        ventas en ultimos 3 meses = 3 valores dentro de una lista\n",
      "        \n"
     ]
    }
   ],
   "source": [
    "class Tienda:\n",
    "    '''\n",
    "        Clase Tienda con parametrors:\n",
    "        tipo: el tipo de productos que se vende en la tienda \n",
    "        abierta: determinada como True\n",
    "    '''\n",
    "    tipo = \"Electrodomestico\"\n",
    "    abierta = True\n",
    "\n",
    "    def __init__(self, nombre:str, direccion:str, numero_empleados: int, ventas_ultimos_3_meses = list,):\n",
    "        '''\n",
    "        Documentacion del init:\n",
    "        nombre = nombre de la tienda que se agrega a cada tienda nueva\n",
    "        direccion = direccion de la tienda que se agrega a cada tienda nueva\n",
    "        numero de empleados = empleado de la tienda que se agrega a cada tienda nueva\n",
    "        ventas en ultimos 3 meses = 3 valores dentro de una lista\n",
    "        '''\n",
    "\n",
    "        self.nombre = nombre\n",
    "        self.direccion = direccion\n",
    "        self.numero_empleados = numero_empleados\n",
    "        self.ventas_ultimos_3_meses = ventas_ultimos_3_meses\n",
    "\n",
    "\n",
    "    def calcular_ventas (self): #calcula (suma) el total de todas las ventas\n",
    "        return (sum(self.ventas_ultimos_3_meses))       \n",
    "\n",
    "    def media_por_empleado (self): #devuelva la media de ventas por empleado\n",
    "         return self.calcular_ventas() / self.numero_empleados\n",
    "        \n",
    "    def nombre_tienda (self):\n",
    "        return str(self.nombre) + \" está ubicada en: \"+ str(self.direccion)\n",
    "    \n",
    "    def ventas_ultimo_mes (self):  #devuelva las ventas del último mes\n",
    "        return self.ventas_ultimos_3_meses[-1]\n",
    "            \n",
    "    def proyeccion_ventas (self, x_inversion)-> float:\n",
    "        \n",
    "        if x_inversion < 1000:\n",
    "            self.ventas_ultimos_3_meses = [1.2 * x for x in self.ventas_ultimos_3_meses]\n",
    "            return self.ventas_ultimos_3_meses\n",
    "                    \n",
    "        elif x_inversion >= 1000:\n",
    "            self.ventas_ultimos_3_meses = [1.5 * x for x in self.ventas_ultimos_3_meses]\n",
    "            return self.ventas_ultimos_3_meses\n",
    "        \n",
    "print(Tienda.__doc__)\n",
    "print(Tienda.__init__.__doc__)"
   ]
  },
  {
   "cell_type": "markdown",
   "metadata": {},
   "source": [
    "## Ejercicio 2\n",
    "En este ejercicio vamos a implementar una clase *Perro* en Python. La clase tiene las siguientes características:\n",
    "* Cosas que sabemos seguro que tiene un perro\n",
    "    * Tiene 4 patas\n",
    "    * 2 orejas\n",
    "    * 2 ojos\n",
    "    * Una velocidad de 0. Por defecto, el perro está parado\n",
    "* Cuando se inicialice:\n",
    "    * El perro será de una determinada raza\n",
    "    * Por defecto tendrá pelo \"Marrón\", a no ser que se diga lo contrario.\n",
    "    * Por defecto no tendrá dueño, a no ser que se diga lo contrario.\n",
    "    \n",
    "* Dispondrá también de un método llamado andar, que tiene un argumento de entrada (aumento_velocidad). Este valor se le sumará a la velocidad que ya llevaba el perro.\n",
    "* Necesita otro método (parar), donde pondremos la velocidad a 0.\n",
    "* Otro método llamado \"ladrar\", que tendrá un argumento de entrada, y la salida será el siguiente string: \"GUAU!\" + el argumento de entrada.\n",
    "\n",
    "\n",
    "Se pide:\n",
    "* Implementa la clase *Perro*\n",
    "* Crea un objeto de tipo *Perro*, sin dueño\n",
    "* Comprueba que están bien todos sus atributos\n",
    "* Prueba que ande, y comprueba su velocidad\n",
    "* Páralo\n",
    "* Documenta la clase *Perro*"
   ]
  },
  {
   "cell_type": "code",
   "execution_count": 230,
   "metadata": {},
   "outputs": [],
   "source": [
    "class Perro:\n",
    "   patas = 4\n",
    "   orejas = 2\n",
    "   ojos = 2\n",
    "   velocidad = 0\n",
    "\n",
    "\n",
    "   def __init__(self, raza = \"labrador\", pelo=\"Marron\", velocidad = 0, duenio =False):\n",
    "      self.raza = raza\n",
    "      self.pelo = pelo\n",
    "      self.velocidad = velocidad\n",
    "      self.duenio = duenio\n",
    "\n",
    "   def andar(self, aumento_velocidad):\n",
    "      self.velocidad = self.velocidad + aumento_velocidad\n",
    "      return \"Este perro anda ahora a velocidad: \" + str(self.velocidad)\n",
    "\n",
    "   def parar(self):\n",
    "      self.velocidad = 0\n",
    "      return \"Este perro paro, y está a velocidad: \" + str(self.velocidad)\n",
    "   \n",
    "   def ladrar (self, aumento_ladridos):\n",
    "      guaus = \"\"\n",
    "\n",
    "      if aumento_ladridos <= 0:\n",
    "         return \"El perro no puede ladrar sin un numero entero\"\n",
    "\n",
    "      else:\n",
    "         guaus = \"Guau! \" * aumento_ladridos \n",
    "       #  while aumento_ladridos > 0:\n",
    "        #    guaus = str(guaus) + str(\"GUAU! \")\n",
    "         #   aumento_ladridos = aumento_ladridos - 1\n",
    "         return guaus\n",
    "        \n",
    "      #print(type(Perro))"
   ]
  },
  {
   "cell_type": "code",
   "execution_count": 231,
   "metadata": {},
   "outputs": [
    {
     "name": "stdout",
     "output_type": "stream",
     "text": [
      "False\n"
     ]
    }
   ],
   "source": [
    "perro_1 = Perro(\"labrador\",)\n",
    "#print(perro_1)\n",
    "#print(type(perro_1))\n",
    "#perro_1.duenio = True\n",
    "#print(perro_1.duenio)\n",
    "print(perro_1.duenio)"
   ]
  },
  {
   "cell_type": "code",
   "execution_count": 235,
   "metadata": {},
   "outputs": [
    {
     "name": "stdout",
     "output_type": "stream",
     "text": [
      "El perro no puede ladrar sin un numero entero\n"
     ]
    }
   ],
   "source": [
    "print(perro_1.ladrar(0))"
   ]
  },
  {
   "cell_type": "code",
   "execution_count": 184,
   "metadata": {},
   "outputs": [
    {
     "name": "stdout",
     "output_type": "stream",
     "text": [
      "Este perro paro, y está a velocidad: 0\n"
     ]
    }
   ],
   "source": [
    "#print(perro_1.andar(1))\n",
    "print(perro_1.parar())\n",
    "#print(perro_1.ladrar())\n",
    "#print(perro_1.aumento_velocidad())\n",
    "#perro_1.andar()\n",
    "#perro_1.parar()\n",
    "#perro_1[]"
   ]
  },
  {
   "cell_type": "code",
   "execution_count": 390,
   "metadata": {},
   "outputs": [
    {
     "name": "stdout",
     "output_type": "stream",
     "text": [
      "\n",
      "   Clase perro con parametrors:\n",
      "        patas: numero de patas \n",
      "        orejas: numero de orejas\n",
      "        ojos: numero de ojos\n",
      "        velocidad: la velocidad inicial del perro, set en 0\n",
      "   \n"
     ]
    }
   ],
   "source": [
    "class Perro:\n",
    "   '''\n",
    "   Clase perro con parametrors:\n",
    "        patas: numero de patas \n",
    "        orejas: numero de orejas\n",
    "        ojos: numero de ojos\n",
    "        velocidad: la velocidad inicial del perro, set en 0\n",
    "   '''\n",
    "   patas = 4\n",
    "   orejas = 2\n",
    "   ojos = 2\n",
    "   velocidad = 0\n",
    "\n",
    "   def __init__(self, pelo=\"Marron\", velocidad = 0, duenio =False):\n",
    "      '''\n",
    "       Definimos los metodos:\n",
    "         andar: el perro va andar y se le aumenta la velocidad inicial mas la agregada por el usuario\n",
    "         parar: el perro se detiene, alcanzando velocidad 0\n",
    "         ladrar: el parro hace un ladrido.\n",
    "      '''\n",
    "     \n",
    "      self.pelo = pelo\n",
    "      self.velocidad = velocidad\n",
    "      self.duenio = duenio\n",
    "\n",
    "\n",
    "   def andar(self, aumento_velocidad):\n",
    "      self.velocidad = self.velocidad + aumento_velocidad\n",
    "      return \"Este perro anda ahora a velocidad: \" + str(self.velocidad)\n",
    "\n",
    "   def parar(self):\n",
    "      print(\"Este perro paro\") #la velocidad debe ser 0\n",
    "   \n",
    "   def ladrar(self) -> str:\n",
    "      return(\"GUAU! GUAU! GUAU!\") \n",
    "\n",
    "print(Perro.__doc__)\n",
    "#print(Perro.__init__.__doc__)"
   ]
  }
 ],
 "metadata": {
  "kernelspec": {
   "display_name": "Python 3",
   "language": "python",
   "name": "python3"
  },
  "language_info": {
   "codemirror_mode": {
    "name": "ipython",
    "version": 3
   },
   "file_extension": ".py",
   "mimetype": "text/x-python",
   "name": "python",
   "nbconvert_exporter": "python",
   "pygments_lexer": "ipython3",
   "version": "3.11.4"
  }
 },
 "nbformat": 4,
 "nbformat_minor": 4
}

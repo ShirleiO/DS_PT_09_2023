{
 "cells": [
  {
   "cell_type": "markdown",
   "metadata": {},
   "source": [
    "![imagen](./img/ejercicios.png)\n",
    "\n",
    "# Ejercicios Programación funcional\n",
    "## Ejercicio 1\n",
    "Utiliza `reduce` para concatenar estas palabras en una frase\n",
    "```Python\n",
    "ejer_1 = (\"to\", \"be\", \"or\", \"not\", \"to\", \"be\", \"that\", \"is\", \"the\", \"question\")\n",
    "```"
   ]
  },
  {
   "cell_type": "code",
   "execution_count": 5,
   "metadata": {},
   "outputs": [
    {
     "name": "stdout",
     "output_type": "stream",
     "text": [
      "to be or not to be that is the question\n"
     ]
    }
   ],
   "source": [
    "from functools import reduce\n",
    "\n",
    "ejer_1 = (\"to\", \"be\", \"or\", \"not\", \"to\", \"be\", \"that\", \"is\", \"the\", \"question\")\n",
    "\n",
    "new_ejer_1 = reduce(lambda x,y : x + \" \"+ y, ejer_1)\n",
    "\n",
    "print(new_ejer_1)"
   ]
  },
  {
   "cell_type": "markdown",
   "metadata": {},
   "source": [
    "## Ejercicio 2\n",
    "Obtén una nueva tupla con el cuadrado de cada elemento de la siguiente tupla\n",
    "\n",
    "```Python\n",
    "ejer_2 = (1,2,3,4,5)\n",
    "```"
   ]
  },
  {
   "cell_type": "code",
   "execution_count": 21,
   "metadata": {},
   "outputs": [
    {
     "name": "stdout",
     "output_type": "stream",
     "text": [
      "(1, 4, 9, 16, 25)\n"
     ]
    }
   ],
   "source": [
    "ejer_2 = (1,2,3,4,5)\n",
    "new_ejer_2 = tuple(map(lambda x: x **2, ejer_2))\n",
    "print (new_ejer_2)"
   ]
  },
  {
   "cell_type": "markdown",
   "metadata": {},
   "source": [
    "## Ejercicio 3\n",
    "Filtra aquellos elementos que sean multiplos de 3 o de 5\n",
    "```Python\n",
    "ejer_3 = (1,2,3,4,5,15,21,22,33,34,35)\n",
    "```"
   ]
  },
  {
   "cell_type": "code",
   "execution_count": 11,
   "metadata": {},
   "outputs": [
    {
     "name": "stdout",
     "output_type": "stream",
     "text": [
      "[1, 2, 3, 4, 5, 15, 21, 22, 33, 34, 35]\n"
     ]
    }
   ],
   "source": [
    "ejer_3 = (1,2,3,4,5,15,21,22,33,34,35)\n",
    "new_ejer_3 = filter(lambda x:  x / 3, ejer_3)\n",
    "#print (list(new_ejer_3))\n",
    "\n",
    "ejer_3 = (1,2,3,4,5,15,21,22,33,34,35)\n",
    "new_ejer_3 = filter(lambda x:  x / 5, ejer_3)\n",
    "print (list(new_ejer_3))"
   ]
  },
  {
   "cell_type": "markdown",
   "metadata": {},
   "source": [
    "## Ejercicio 4\n",
    "Convierte la siguiente tupla de pesetas a euros\n",
    "```Python\n",
    "ejer_4 = (1000, 8000, 20000000, 40000000)\n",
    "```"
   ]
  },
  {
   "cell_type": "code",
   "execution_count": 18,
   "metadata": {},
   "outputs": [
    {
     "name": "stdout",
     "output_type": "stream",
     "text": [
      "[167000, 1336000, 3340000000, 6680000000]\n"
     ]
    }
   ],
   "source": [
    "ejer_4 = (1000, 8000, 20000000, 40000000)\n",
    "\n",
    "new_ejer_4 = map(lambda x: (x * 167), ejer_4) \n",
    "print (list(new_ejer_4))"
   ]
  },
  {
   "cell_type": "code",
   "execution_count": null,
   "metadata": {},
   "outputs": [],
   "source": [
    "conversion rata = 1 * 167"
   ]
  },
  {
   "cell_type": "markdown",
   "metadata": {},
   "source": [
    "## Ejercicio 5\n",
    "Convierte la siguiente lista de desconocidos a mayusculas\n",
    "```Python\n",
    "ejer_5 = (\"Arya\", \"John\", \"Robb\", \"Bran\", \"Sansa\", \"Rickon\")\n",
    "```"
   ]
  },
  {
   "cell_type": "code",
   "execution_count": null,
   "metadata": {},
   "outputs": [],
   "source": [
    "ejer_5 = (\"Arya\", \"John\", \"Robb\", \"Bran\", \"Sansa\", \"Rickon\")\n",
    "\n",
    "new_ejer_5 = lambda x: (x), ejer_5\n",
    "\n",
    "print (list(new_ejer_5))"
   ]
  },
  {
   "cell_type": "markdown",
   "metadata": {},
   "source": [
    "## Ejercicio 6\n",
    "Realiza un conversor de dias de la semana en texto a numerico (1-7), usando `map`.\n",
    "```Python\n",
    "ejer_6 = (\"Lunes\", \"Martes\", \"Miércoles\", \"Jueves\", \"Viernes\", \"Sábado\", \"Domingo\")\n",
    "```"
   ]
  },
  {
   "cell_type": "code",
   "execution_count": null,
   "metadata": {},
   "outputs": [],
   "source": []
  },
  {
   "cell_type": "markdown",
   "metadata": {},
   "source": [
    "## Ejercicio 7\n",
    "Utiliza `map` para multiplicar elemento a elemento estas dos tuplas\n",
    "```Python\n",
    "ejer_7_1 = (2, 5, 8)\n",
    "ejer_7_2 = (6, 3, 2)\n",
    "```"
   ]
  },
  {
   "cell_type": "code",
   "execution_count": null,
   "metadata": {},
   "outputs": [],
   "source": [
    "ejer_7_1 = (2, 5, 8)\n",
    "ejer_7_2 = (6, 3, 2)\n",
    "\n",
    "new_ejer_7= tuple(map(lambda x: x **2, ejer_7_1 = (2, 5, 8), ejer_7_2 = (6, 3, 2)\n",
    "\n"
   ]
  },
  {
   "cell_type": "markdown",
   "metadata": {},
   "source": [
    "## Ejercicio 8\n",
    "Crea una tupla nueva con todos los coches que no sean VW :)\n",
    "\n",
    "```Python\n",
    "ejer_8 = (\"VW\", \"Audi\", \"Renault\", \"VW\", \"BMW\")\n",
    "```"
   ]
  },
  {
   "cell_type": "code",
   "execution_count": null,
   "metadata": {},
   "outputs": [],
   "source": []
  },
  {
   "cell_type": "markdown",
   "metadata": {},
   "source": [
    "## Ejercicio 9\n",
    "Dadas las siguientes fechas en formato string, quedate con aquellas del año 2020\n",
    "\n",
    "```Python\n",
    "ejer_9 = (\"2019-04-08\", \"2020-10-10\", \"2020-01-22\", \"2019-07-13\", \"2019-02-01\")\n",
    "```"
   ]
  },
  {
   "cell_type": "code",
   "execution_count": null,
   "metadata": {},
   "outputs": [],
   "source": []
  },
  {
   "cell_type": "markdown",
   "metadata": {},
   "source": [
    "## Ejercicio 10\n",
    "Filtra aquellos strings que sean [palíndromos](https://es.wikipedia.org/wiki/Pal%C3%ADndromo)\n",
    "```Python\n",
    "ejer_10 = (\"php\", \"w3r\", \"Python\", \"abcd\", \"Java\", \"aaa\")\n",
    "```"
   ]
  },
  {
   "cell_type": "code",
   "execution_count": null,
   "metadata": {},
   "outputs": [],
   "source": []
  }
 ],
 "metadata": {
  "kernelspec": {
   "display_name": "Python 3",
   "language": "python",
   "name": "python3"
  },
  "language_info": {
   "codemirror_mode": {
    "name": "ipython",
    "version": 3
   },
   "file_extension": ".py",
   "mimetype": "text/x-python",
   "name": "python",
   "nbconvert_exporter": "python",
   "pygments_lexer": "ipython3",
   "version": "3.11.4"
  }
 },
 "nbformat": 4,
 "nbformat_minor": 4
}

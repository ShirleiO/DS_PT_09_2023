{
 "cells": [
  {
   "cell_type": "markdown",
   "metadata": {},
   "source": [
    "![imagen](./img/ejercicios.png)"
   ]
  },
  {
   "cell_type": "markdown",
   "metadata": {},
   "source": [
    "## Ejercicio 1\n",
    "Dada la siguiente lista:\n",
    "> ```ejer_1 = [1,2,3,4,5]```\n",
    "\n",
    "Inviértela para que quede de la siguiente manera\n",
    "> ```ejer_1 = [5,4,3,2,1]```"
   ]
  },
  {
   "cell_type": "code",
   "execution_count": 1,
   "metadata": {},
   "outputs": [
    {
     "data": {
      "text/plain": [
       "[5, 4, 3, 2, 1]"
      ]
     },
     "execution_count": 1,
     "metadata": {},
     "output_type": "execute_result"
    }
   ],
   "source": [
    "ejer_1 = [1,2,3,4,5]\n",
    "\n",
    "ejer_1.reverse()\n",
    "ejer_1"
   ]
  },
  {
   "cell_type": "code",
   "execution_count": 1,
   "metadata": {},
   "outputs": [
    {
     "data": {
      "text/plain": [
       "[5, 4, 3, 2, 1]"
      ]
     },
     "execution_count": 1,
     "metadata": {},
     "output_type": "execute_result"
    }
   ],
   "source": [
    "ejer_1 = [1,2,3,4,5]\n",
    "lista =[]\n",
    "\n",
    "for i in ejer_1:\n",
    "    lista.insert(0,i)\n",
    "\n",
    "lista"
   ]
  },
  {
   "cell_type": "markdown",
   "metadata": {},
   "source": [
    "## Ejercicio 2\n",
    "Eleva todos los elementos de la lista al cuadrado\n",
    "> ```ejer_2 = [1,2,3,4,5]```"
   ]
  },
  {
   "cell_type": "code",
   "execution_count": 9,
   "metadata": {},
   "outputs": [
    {
     "name": "stdout",
     "output_type": "stream",
     "text": [
      "[1, 4, 9, 16, 25]\n"
     ]
    }
   ],
   "source": [
    "ejer_2 = [1,2,3,4,5]\n",
    "resolucion = [number ** 2 for number in ejer_2]\n",
    "print (resolucion)"
   ]
  },
  {
   "cell_type": "markdown",
   "metadata": {},
   "source": [
    "## Ejercicio 3\n",
    "Crea una lista nueva con todas las combinaciones de las siguientes dos listas:\n",
    "> ```ejer_3_1 = [\"Hola\", \"amigo\"]```\n",
    ">\n",
    "> ```ejer_3_2 = [\"Que\", \"tal\"]```\n",
    "\n",
    "Obten el siguiente output:\n",
    "\n",
    "['Hola Que', 'Hola tal', 'amigo Que', 'amigo tal']"
   ]
  },
  {
   "cell_type": "code",
   "execution_count": 3,
   "metadata": {},
   "outputs": [
    {
     "data": {
      "text/plain": [
       "[]"
      ]
     },
     "execution_count": 3,
     "metadata": {},
     "output_type": "execute_result"
    }
   ],
   "source": [
    "ejer_3_1 = [\"Hola\", \"amigo\"]\n",
    "ejer_3_2 = [\"Que\", \"tal\"]\n",
    "\n",
    "juntos = list()\n",
    "\n",
    "for i in ejer_3_1:\n",
    "    for j in ejer_3_2:\n",
    "        lista.append(i +\" \"+j)\n",
    "\n",
    "juntos"
   ]
  },
  {
   "cell_type": "code",
   "execution_count": 22,
   "metadata": {},
   "outputs": [
    {
     "name": "stdout",
     "output_type": "stream",
     "text": [
      "Hola Que, Hola tal, amigo Que, amigo tal, "
     ]
    }
   ],
   "source": [
    "ejer_3_1 = [\"Hola\", \"amigo\"]\n",
    "\n",
    "ejer_3_2 = [\"Que\", \"tal\"]\n",
    "\n",
    "for saludo in ejer_3_1:\n",
    "    for fill in ejer_3_2: \n",
    "        print(saludo +\" \"+ fill +\",\", end =\" \")\n",
    "\n",
    "\n",
    "#print (ejer_3_1[0] +\" \"+ ejer_3_2[0] +\" \"+ ejer_3_1[0] +\" \"+ ejer_3_2[1] +\" \"+ ejer_3_1[1] +\" \"+ ejer_3_2[0]  +\" \"+ ejer_3_1[1] +\" \"+ ejer_3_2[1])\n",
    "\n",
    "\n",
    "#x = zip(ejer_3_1, ejer_3_2)\n",
    "\n",
    "#use the tuple() function to display a readable version of the result:\n",
    "\n",
    "#print(tuple(x))"
   ]
  },
  {
   "cell_type": "markdown",
   "metadata": {},
   "source": [
    "## Ejercicio 4\n",
    "Dada la siguiente lista, encuentra el índice del valor 45 y sustitúyelo por el 0\n",
    "> ```ejer_4 = [20, 47, 19, 29, 45, 67, 78, 90]```"
   ]
  },
  {
   "cell_type": "code",
   "execution_count": 4,
   "metadata": {},
   "outputs": [
    {
     "data": {
      "text/plain": [
       "[20, 47, 19, 29, 0, 67, 78, 90]"
      ]
     },
     "execution_count": 4,
     "metadata": {},
     "output_type": "execute_result"
    }
   ],
   "source": [
    "ejer_4 = [20, 47, 19, 29, 45, 67, 78, 90]\n",
    "\n",
    "ejer_4 [ejer_4.index(45)] = 0\n",
    "ejer_4"
   ]
  },
  {
   "cell_type": "code",
   "execution_count": 34,
   "metadata": {},
   "outputs": [
    {
     "name": "stdout",
     "output_type": "stream",
     "text": [
      "[20, 47, 19, 29, 67, 78, 90]\n"
     ]
    }
   ],
   "source": [
    "ejer_4 = [20, 47, 19, 29, 45, 67, 78, 90]\n",
    "ejer_4.remove(45)\n",
    "print(ejer_4)"
   ]
  },
  {
   "cell_type": "markdown",
   "metadata": {},
   "source": [
    "## Ejercicio 5\n",
    "Dada la siguiente lista, elimina todos los valores iguales a 3\n",
    "> ```ejer_5 = [3, 20, 3, 47, 19, 3, 29, 45, 67, 78, 90, 3, 3]```\n",
    "\n",
    "TIP: No intentes eliminar elementos sobre la lista que estás iterando. Haz una copia con `ejer_5.copy()`."
   ]
  },
  {
   "cell_type": "code",
   "execution_count": 7,
   "metadata": {},
   "outputs": [],
   "source": [
    "ejer_5 = [3, 20, 3, 47, 19, 3, 29, 45, 67, 78, 90, 3, 3]"
   ]
  },
  {
   "cell_type": "code",
   "execution_count": 11,
   "metadata": {},
   "outputs": [],
   "source": [
    "lista_copia = ejer_5.copy()"
   ]
  },
  {
   "cell_type": "code",
   "execution_count": 10,
   "metadata": {},
   "outputs": [
    {
     "name": "stdout",
     "output_type": "stream",
     "text": [
      "i  3\n"
     ]
    },
    {
     "ename": "ValueError",
     "evalue": "list.remove(x): x not in list",
     "output_type": "error",
     "traceback": [
      "\u001b[1;31m---------------------------------------------------------------------------\u001b[0m",
      "\u001b[1;31mValueError\u001b[0m                                Traceback (most recent call last)",
      "\u001b[1;32mc:\\Users\\shirl\\OneDrive\\Documents\\GitHub\\DS_PT_09_2023\\01-Ramp_Up\\02-Python\\01-Python\\3-Colecciones\\Practica\\Ejercicios Colecciones. Shirlei.ipynb Cell 16\u001b[0m line \u001b[0;36m6\n\u001b[0;32m      <a href='vscode-notebook-cell:/c%3A/Users/shirl/OneDrive/Documents/GitHub/DS_PT_09_2023/01-Ramp_Up/02-Python/01-Python/3-Colecciones/Practica/Ejercicios%20Colecciones.%20Shirlei.ipynb#X62sZmlsZQ%3D%3D?line=3'>4</a>\u001b[0m     \u001b[39mprint\u001b[39m(\u001b[39m\"\u001b[39m\u001b[39mi \u001b[39m\u001b[39m\"\u001b[39m, i)\n\u001b[0;32m      <a href='vscode-notebook-cell:/c%3A/Users/shirl/OneDrive/Documents/GitHub/DS_PT_09_2023/01-Ramp_Up/02-Python/01-Python/3-Colecciones/Practica/Ejercicios%20Colecciones.%20Shirlei.ipynb#X62sZmlsZQ%3D%3D?line=4'>5</a>\u001b[0m     \u001b[39mif\u001b[39;00m i  \u001b[39m==\u001b[39m\u001b[39m3\u001b[39m:\n\u001b[1;32m----> <a href='vscode-notebook-cell:/c%3A/Users/shirl/OneDrive/Documents/GitHub/DS_PT_09_2023/01-Ramp_Up/02-Python/01-Python/3-Colecciones/Practica/Ejercicios%20Colecciones.%20Shirlei.ipynb#X62sZmlsZQ%3D%3D?line=5'>6</a>\u001b[0m         lista\u001b[39m.\u001b[39;49mremove(i)\n\u001b[0;32m      <a href='vscode-notebook-cell:/c%3A/Users/shirl/OneDrive/Documents/GitHub/DS_PT_09_2023/01-Ramp_Up/02-Python/01-Python/3-Colecciones/Practica/Ejercicios%20Colecciones.%20Shirlei.ipynb#X62sZmlsZQ%3D%3D?line=6'>7</a>\u001b[0m \u001b[39mprint\u001b[39m(lista_copia)\n\u001b[0;32m      <a href='vscode-notebook-cell:/c%3A/Users/shirl/OneDrive/Documents/GitHub/DS_PT_09_2023/01-Ramp_Up/02-Python/01-Python/3-Colecciones/Practica/Ejercicios%20Colecciones.%20Shirlei.ipynb#X62sZmlsZQ%3D%3D?line=7'>8</a>\u001b[0m \u001b[39mprint\u001b[39m(ejer_5)\n",
      "\u001b[1;31mValueError\u001b[0m: list.remove(x): x not in list"
     ]
    }
   ],
   "source": [
    "lista_copia = ejer_5.copy()\n",
    "\n",
    "for i in ejer_5:\n",
    "    print(\"i \", i)\n",
    "    if i  ==3:\n",
    "        lista.remove(i)\n",
    "print(lista_copia)\n",
    "print(ejer_5)"
   ]
  },
  {
   "cell_type": "code",
   "execution_count": 140,
   "metadata": {},
   "outputs": [
    {
     "name": "stdout",
     "output_type": "stream",
     "text": [
      "5\n",
      "[20, 47, 19, 29, 45, 67, 78, 90]\n"
     ]
    }
   ],
   "source": [
    "lista_copia = (ejer_5.copy())\n",
    "\n",
    "cuantos_son = lista_copia.count (3)\n",
    "print(cuantos_son)\n",
    "\n",
    "while cuantos_son > 0:\n",
    "    lista_copia.remove(3)\n",
    "    cuantos_son = lista_copia.count (3)\n",
    "print(lista_copia)\n",
    "\n",
    "\n"
   ]
  },
  {
   "cell_type": "markdown",
   "metadata": {},
   "source": [
    "## Ejercicio 6\n",
    "1. Crea una tupla con 3 elementos\n",
    "2. Crea otra tupla con un elemento y comprueba su tipo\n",
    "3. Crea una tupla con elementos de diferentes tipos\n",
    "4. Imprime por pantalla el primer y ultimo elemento de la tupla del apartado 3. Usa `len` para el ultimo\n",
    "5. Añade un elemento a la tupla del apartado 3.\n",
    "6. Eliminar un elemento de la tupla del apartado 5, que se encuentre más o menos en la mitad.\n",
    "7. Convierte la tupla del apartado 5 en una lista"
   ]
  },
  {
   "cell_type": "code",
   "execution_count": 165,
   "metadata": {},
   "outputs": [
    {
     "name": "stdout",
     "output_type": "stream",
     "text": [
      "Lampara\n",
      "<class 'tuple'>\n",
      "<class 'tuple'>\n",
      "1\n",
      "Reloj\n",
      "42\n",
      "(1, 2, 8, 15, 'Agua', 'Reloj', 'Arroz', 1, 2, 8, 15, 'Agua', 'Reloj', 'Arroz', 1, 2, 8, 15, 'Agua', 'Reloj', 'Arroz', 2, 8, 15, 'Agua', 'Reloj', 'Arroz', 1, 2, 8, 15, 'Agua', 'Reloj', 'Arroz', 1, 2, 8, 15, 'Agua', 'Reloj', 'Arroz')\n",
      "[1, 2, 8, 15, 'Agua', 'Reloj', 'Arroz', 1, 2, 8, 15, 'Agua', 'Reloj', 'Arroz', 1, 2, 8, 15, 'Agua', 'Reloj', 'Arroz', 1, 2, 8, 15, 'Agua', 'Reloj', 'Arroz', 1, 2, 8, 15, 'Agua', 'Reloj', 'Arroz', 1, 2, 8, 15, 'Agua', 'Reloj', 'Arroz']\n"
     ]
    }
   ],
   "source": [
    "tupla_de_3 = (\"Casa\", \"Carro\", \"Lampara\")\n",
    "print(tupla_de_3[-1])\n",
    "\n",
    "tupla_de_1 = (\"Perritos\",)\n",
    "print (type(tupla_de_3))\n",
    "print (type(tupla_de_1))\n",
    "\n",
    "tupla_mixta =(1, 2, 8, 15, \"Agua\", \"Reloj\")\n",
    "\n",
    "print (tupla_mixta[0])\n",
    "print (tupla_mixta[len(tupla_mixta)-1])\n",
    "\n",
    "tupla_para_agregar = (\"Arroz\",)\n",
    "combinacion_tuplas = tupla_mixta + tupla_para_agregar + tupla_mixta + tupla_para_agregar+ tupla_mixta + tupla_para_agregar+ tupla_mixta + tupla_para_agregar+ tupla_mixta + tupla_para_agregar+ tupla_mixta + tupla_para_agregar\n",
    "print (len(combinacion_tuplas))\n",
    "\n",
    "medio = int(len(combinacion_tuplas)/2)\n",
    "\n",
    "eliminar_item_tuplas = combinacion_tuplas [0:medio] + combinacion_tuplas [(medio+1):len(combinacion_tuplas)]\n",
    "print(eliminar_item_tuplas)\n",
    "\n",
    "print(list(combinacion_tuplas))\n"
   ]
  },
  {
   "cell_type": "markdown",
   "metadata": {},
   "source": [
    "## Ejercicio 7\n",
    "Concatena todos los elementos de la tupla en un unico string. Para ello utiliza el metodo `.join()` de los Strings\n",
    "> ```ejer_7 = (\"cien\", \"cañones\", \"por\", \"banda\")```\n",
    "\n",
    "Resultado: `cien cañones por banda`"
   ]
  },
  {
   "cell_type": "code",
   "execution_count": 12,
   "metadata": {},
   "outputs": [
    {
     "name": "stdout",
     "output_type": "stream",
     "text": [
      "cien cañones por banda\n"
     ]
    }
   ],
   "source": [
    "ejer_7 = (\"cien\", \"cañones\", \"por\", \"banda\")\n",
    "\n",
    "print(\" \".join(ejer_7))"
   ]
  },
  {
   "cell_type": "code",
   "execution_count": 11,
   "metadata": {},
   "outputs": [
    {
     "name": "stdout",
     "output_type": "stream",
     "text": [
      "cien cañones por banda "
     ]
    }
   ],
   "source": [
    "ejer_7 = (\"cien\", \"cañones\", \"por\", \"banda\")\n",
    "\n",
    "for palabra in ejer_7:\n",
    "    print(palabra, end= \" \")"
   ]
  },
  {
   "cell_type": "markdown",
   "metadata": {},
   "source": [
    "## Ejercicio 8\n",
    "Obten el tercer elemento de la siguiente tupla, y el tercero empezando por la cola\n",
    "> ```ejer_8 = (3, 20, 3, 47, 19, 3, 29, 45, 67, 78, 90, 3, 3)```"
   ]
  },
  {
   "cell_type": "code",
   "execution_count": 42,
   "metadata": {},
   "outputs": [
    {
     "name": "stdout",
     "output_type": "stream",
     "text": [
      "3\n",
      "90\n"
     ]
    }
   ],
   "source": [
    "ejer_8 = (3, 20, 3, 47, 19, 3, 29, 45, 67, 78, 90, 3, 3)\n",
    "print (ejer_8[2])\n",
    "print (ejer_8[-3])"
   ]
  },
  {
   "cell_type": "markdown",
   "metadata": {},
   "source": [
    "## Ejercicio 9\n",
    "1. ¿Cuántas veces se repite el 3 en la siguiente tupla?\n",
    "2. Crea una tupla nueva con los elementos desde la posicion 5 a la 10.\n",
    "3. ¿Cuántos elementos tiene la tupla `ejer_9`?\n",
    "> ```ejer_9 = (3, 20, 3, 47, 19, 3, 29, 45, 67, 78, 90, 3, 3, 5, 2, 4, 7, 9, 4, 2, 4, 3, 3, 4, 6, 7)```"
   ]
  },
  {
   "cell_type": "code",
   "execution_count": 22,
   "metadata": {},
   "outputs": [
    {
     "name": "stdout",
     "output_type": "stream",
     "text": [
      "7\n",
      "26\n"
     ]
    },
    {
     "ename": "ValueError",
     "evalue": "tuple.index(x): x not in tuple",
     "output_type": "error",
     "traceback": [
      "\u001b[1;31m---------------------------------------------------------------------------\u001b[0m",
      "\u001b[1;31mValueError\u001b[0m                                Traceback (most recent call last)",
      "\u001b[1;32mc:\\Users\\shirl\\OneDrive\\Documents\\GitHub\\DS_PT_09_2023\\01-Ramp_Up\\02-Python\\01-Python\\3-Colecciones\\Practica\\Ejercicios Colecciones. Shirlei.ipynb Cell 22\u001b[0m line \u001b[0;36m6\n\u001b[0;32m      <a href='vscode-notebook-cell:/c%3A/Users/shirl/OneDrive/Documents/GitHub/DS_PT_09_2023/01-Ramp_Up/02-Python/01-Python/3-Colecciones/Practica/Ejercicios%20Colecciones.%20Shirlei.ipynb#X30sZmlsZQ%3D%3D?line=2'>3</a>\u001b[0m \u001b[39mprint\u001b[39m(conteo)\n\u001b[0;32m      <a href='vscode-notebook-cell:/c%3A/Users/shirl/OneDrive/Documents/GitHub/DS_PT_09_2023/01-Ramp_Up/02-Python/01-Python/3-Colecciones/Practica/Ejercicios%20Colecciones.%20Shirlei.ipynb#X30sZmlsZQ%3D%3D?line=4'>5</a>\u001b[0m \u001b[39mprint\u001b[39m(\u001b[39mlen\u001b[39m(ejer_9))\n\u001b[1;32m----> <a href='vscode-notebook-cell:/c%3A/Users/shirl/OneDrive/Documents/GitHub/DS_PT_09_2023/01-Ramp_Up/02-Python/01-Python/3-Colecciones/Practica/Ejercicios%20Colecciones.%20Shirlei.ipynb#X30sZmlsZQ%3D%3D?line=5'>6</a>\u001b[0m comprobar\u001b[39m=\u001b[39m (ejer_9\u001b[39m.\u001b[39;49mindex(\u001b[39m60\u001b[39;49m))\n\u001b[0;32m      <a href='vscode-notebook-cell:/c%3A/Users/shirl/OneDrive/Documents/GitHub/DS_PT_09_2023/01-Ramp_Up/02-Python/01-Python/3-Colecciones/Practica/Ejercicios%20Colecciones.%20Shirlei.ipynb#X30sZmlsZQ%3D%3D?line=6'>7</a>\u001b[0m comprobar\n",
      "\u001b[1;31mValueError\u001b[0m: tuple.index(x): x not in tuple"
     ]
    }
   ],
   "source": [
    "ejer_9 = (3, 20, 3, 47, 19, 3, 29, 45, 67, 78, 90, 3, 3, 5, 2, 4, 7, 9, 4, 2, 4, 3, 3, 4, 6, 7)\n",
    "conteo = ejer_9.count (3)\n",
    "print(conteo)\n",
    "\n",
    "ejer_9_2 = ejer_9 \n",
    "\n",
    "print(len(ejer_9))\n"
   ]
  },
  {
   "cell_type": "markdown",
   "metadata": {},
   "source": [
    "## Ejercicio 10\n",
    "Comprueba si el numero 60 esta en la tupla del ejercicio 9"
   ]
  },
  {
   "cell_type": "code",
   "execution_count": 40,
   "metadata": {},
   "outputs": [
    {
     "data": {
      "text/plain": [
       "3"
      ]
     },
     "execution_count": 40,
     "metadata": {},
     "output_type": "execute_result"
    }
   ],
   "source": [
    "comprobar = ejer_9.index(47)\n",
    "comprobar\n",
    "\n",
    "#comprobar = (ejer_9.index(60)== 1)\n",
    "#comprobar #Da error, porque no existe\n",
    "\n",
    "\n",
    "\n",
    "\n",
    "    \n"
   ]
  },
  {
   "cell_type": "markdown",
   "metadata": {},
   "source": [
    "## Ejercicio 11\n",
    "1. Convierte la tupla del apartado 10 en una lista\n",
    "2. Convierte la tupla del apartado 10 en un set\n",
    "3. Convierte la tupla del apartado 10 en un diccionario. Usa también los indices"
   ]
  },
  {
   "cell_type": "code",
   "execution_count": null,
   "metadata": {},
   "outputs": [],
   "source": []
  },
  {
   "cell_type": "code",
   "execution_count": null,
   "metadata": {},
   "outputs": [],
   "source": []
  },
  {
   "cell_type": "markdown",
   "metadata": {},
   "source": [
    "## Ejercicio 12\n",
    "Convierte la siguiente lista en un diccionario\n",
    "> ```ejer_12 = [(\"x\", 1), (\"x\", 2), (\"x\", 3), (\"y\", 1), (\"y\", 2), (\"z\", 1)]```\n",
    "\n",
    "TIP: Puedes usar dos variables de control en un bucle `for`. Una por cada valor de las tuplas."
   ]
  },
  {
   "cell_type": "code",
   "execution_count": 6,
   "metadata": {},
   "outputs": [
    {
     "name": "stdout",
     "output_type": "stream",
     "text": [
      "(('x', 1), ('x', 2), ('x', 3), ('y', 1), ('y', 2), ('z', 1))\n",
      "{'x': 3, 'y': 2, 'z': 1}\n",
      "<class 'dict'>\n"
     ]
    }
   ],
   "source": [
    "ejer_12 = [(\"x\", 1), (\"x\", 2), (\"x\", 3), (\"y\", 1), (\"y\", 2), (\"z\", 1)]\n",
    "ejer_12\n",
    "\n",
    "list_to_tuple = (tuple(ejer_12))\n",
    "print (list_to_tuple)\n",
    "\n",
    "tuple_to_dict = (dict(ejer_12))\n",
    "print (tuple_to_dict)\n",
    "print (type(tuple_to_dict))"
   ]
  },
  {
   "cell_type": "markdown",
   "metadata": {},
   "source": [
    "## Ejercicio 13\n",
    "1. Crea una lista ordenada ascendente con las claves del diccionario\n",
    "2. Crea otra lista ordenada descendente con los valores\n",
    "3. Añade una nueva clave/valor\n",
    "4. Busca la clave con el valor de 2 dentro del diccionario\n",
    "5. Itera la clave y el valor del diccionario con un unico for\n",
    "> ```ejer_13 = {4:78, 2:98, 8:234, 5:29}```"
   ]
  },
  {
   "cell_type": "code",
   "execution_count": null,
   "metadata": {},
   "outputs": [],
   "source": [
    "ejer_13 = {4:78, 2:98, 8:234, 5:29}\n",
    "\n",
    "list_p = sorted(ejer_13.keys())\n",
    "print(list_p)"
   ]
  },
  {
   "cell_type": "markdown",
   "metadata": {},
   "source": [
    "## Ejercicio 14\n",
    "Junta ambos diccionarios. Para ello, utiliza `update`\n",
    "> ```ejer_14_1 = {1: 11, 2: 22}```\n",
    ">\n",
    "> ```ejer_14_2 = {3: 33, 4: 44}```"
   ]
  },
  {
   "cell_type": "code",
   "execution_count": 38,
   "metadata": {},
   "outputs": [
    {
     "data": {
      "text/plain": [
       "{1: 11, 2: 22, 3: 33, 4: 44}"
      ]
     },
     "execution_count": 38,
     "metadata": {},
     "output_type": "execute_result"
    }
   ],
   "source": [
    "ejer_14_1 = {1: 11, 2: 22}\n",
    "ejer_14_2 = {3: 33, 4: 44}\n",
    "\n",
    "union_dicc = {}\n",
    "union_dicc.update (ejer_14_1)\n",
    "union_dicc.update (ejer_14_2)\n",
    "union_dicc"
   ]
  },
  {
   "cell_type": "markdown",
   "metadata": {},
   "source": [
    "## Ejercicio 15\n",
    "Suma todos los valores del dicionario\n",
    "> ```ejer_15 = {1: 11, 2: 22, 3: 33, 4: 44, 5: 55}```"
   ]
  },
  {
   "cell_type": "code",
   "execution_count": 13,
   "metadata": {},
   "outputs": [
    {
     "name": "stdout",
     "output_type": "stream",
     "text": [
      "165\n"
     ]
    }
   ],
   "source": [
    "ejer_15 = {1: 11, 2: 22, 3: 33, 4: 44, 5: 55}\n",
    "print(sum(ejer_15.values()))"
   ]
  },
  {
   "cell_type": "markdown",
   "metadata": {},
   "source": [
    "## Ejercicio 16\n",
    "Multiplica todos los valores del diccionario\n",
    "> ```ejer_16 = {1: 11, 2: 22, 3: 33, 4: 44, 5: 55}```"
   ]
  },
  {
   "cell_type": "code",
   "execution_count": null,
   "metadata": {},
   "outputs": [],
   "source": [
    "ejer_16 = {1: 11, 2: 22, 3: 33, 4: 44, 5: 55}\n",
    "\n",
    "prod = 1\n",
    "\n",
    "for i in ejer_16"
   ]
  },
  {
   "cell_type": "markdown",
   "metadata": {},
   "source": [
    "## Ejercicio 17\n",
    "1. Crea un set de tres elementos\n",
    "2. Añade un cuarto\n",
    "3. Elimina el utlimo elemento añadido\n",
    "4. Elimina el elemento 10, si está presente. Usa `discard()`"
   ]
  },
  {
   "cell_type": "code",
   "execution_count": null,
   "metadata": {},
   "outputs": [],
   "source": [
    "\n"
   ]
  },
  {
   "cell_type": "code",
   "execution_count": null,
   "metadata": {},
   "outputs": [],
   "source": []
  }
 ],
 "metadata": {
  "kernelspec": {
   "display_name": "Python 3",
   "language": "python",
   "name": "python3"
  },
  "language_info": {
   "codemirror_mode": {
    "name": "ipython",
    "version": 3
   },
   "file_extension": ".py",
   "mimetype": "text/x-python",
   "name": "python",
   "nbconvert_exporter": "python",
   "pygments_lexer": "ipython3",
   "version": "3.11.4"
  }
 },
 "nbformat": 4,
 "nbformat_minor": 4
}

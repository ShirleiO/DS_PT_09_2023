{
 "cells": [
  {
   "cell_type": "markdown",
   "metadata": {},
   "source": [
    "# Python | day 3 | collections & if/else"
   ]
  },
  {
   "cell_type": "markdown",
   "metadata": {},
   "source": [
    "### Ejercicio 1."
   ]
  },
  {
   "cell_type": "markdown",
   "metadata": {},
   "source": [
    "1. Crea una variable llamada **num_bridge** con un valor de 15."
   ]
  },
  {
   "cell_type": "code",
   "execution_count": 182,
   "metadata": {},
   "outputs": [],
   "source": [
    "num_bridge = \"15\""
   ]
  },
  {
   "cell_type": "markdown",
   "metadata": {},
   "source": [
    "2. Crea una variable llamada **nombre_calle** con el valor \"Recoletos\".\n",
    "\n"
   ]
  },
  {
   "cell_type": "code",
   "execution_count": 183,
   "metadata": {},
   "outputs": [],
   "source": [
    "nombre_calle = \"Recoletos\""
   ]
  },
  {
   "cell_type": "markdown",
   "metadata": {},
   "source": [
    "3. Crea una variable llamada **gusto_personal** que debe ser `Verdadero` si te gusta más la playa o `Falso` si prefieres la montaña."
   ]
  },
  {
   "cell_type": "code",
   "execution_count": 184,
   "metadata": {},
   "outputs": [],
   "source": [
    "gusto_personal = True"
   ]
  },
  {
   "cell_type": "markdown",
   "metadata": {},
   "source": [
    "4. Crea una variable llamada **nothing** como sigue: `nothing = None`. `None` no representa ningún valor, algo que debes tener en cuenta si haces `if nothing:` entonces `nothing` actúa como un booleano `False`."
   ]
  },
  {
   "cell_type": "code",
   "execution_count": 185,
   "metadata": {},
   "outputs": [],
   "source": [
    "nothing = None\n"
   ]
  },
  {
   "cell_type": "markdown",
   "metadata": {},
   "source": [
    "5. Crea una variable llamada **lista_direcciones**. Debe ser una lista que contenga lo siguiente: primer elemento **nombre_calle** y segundo elemento **número_puente**."
   ]
  },
  {
   "cell_type": "code",
   "execution_count": 186,
   "metadata": {},
   "outputs": [
    {
     "name": "stdout",
     "output_type": "stream",
     "text": [
      "['Recoletos', '15']\n"
     ]
    }
   ],
   "source": [
    "lista_direcciones = [nombre_calle, num_bridge]\n",
    "print(lista_direcciones)"
   ]
  },
  {
   "cell_type": "markdown",
   "metadata": {},
   "source": [
    "6. Crea una variable llamada **horas_dormidas** que debe contener, en forma de cadena, las horas que has dormido hoy."
   ]
  },
  {
   "cell_type": "code",
   "execution_count": 187,
   "metadata": {},
   "outputs": [
    {
     "name": "stdout",
     "output_type": "stream",
     "text": [
      "<class 'str'>\n"
     ]
    }
   ],
   "source": [
    "horas_dormidas = \"8\"\n",
    "print (type(horas_dormidas))\n"
   ]
  },
  {
   "cell_type": "markdown",
   "metadata": {},
   "source": [
    "7. Crea una lista llamada **info_list** que contenga todas las variables que acabas de crear en el orden en que lo has hecho.\n",
    "\n",
    "```python\n",
    "len(info_list) == 6\n",
    "True\n",
    "```\n",
    "\n",
    "**IMPORTANTE: utilizarás `info_list` en algún momento de la próxima semana**."
   ]
  },
  {
   "cell_type": "code",
   "execution_count": 188,
   "metadata": {},
   "outputs": [
    {
     "name": "stdout",
     "output_type": "stream",
     "text": [
      "6\n",
      "True\n"
     ]
    }
   ],
   "source": [
    "info_list =[str(num_bridge), nombre_calle, str(gusto_personal), str(nothing), lista_direcciones, horas_dormidas]\n",
    "print (len(info_list))\n",
    "print (len(info_list) == 6)\n",
    "\n"
   ]
  },
  {
   "cell_type": "markdown",
   "metadata": {},
   "source": [
    "8. Ejecuta la siguiente celda para borrar todas las variables que acabas de crear y quédate sólo con **info_list**.\n",
    "Imprime **info_list** una vez lo hayas hecho para comprobar que la lista sigue existiendo."
   ]
  },
  {
   "cell_type": "code",
   "execution_count": 189,
   "metadata": {},
   "outputs": [],
   "source": [
    "#ejecuta esto\n",
    "del num_bridge\n",
    "del nombre_calle\n",
    "del gusto_personal\n",
    "del nothing\n",
    "del lista_direcciones\n",
    "del horas_dormidas"
   ]
  },
  {
   "cell_type": "code",
   "execution_count": 190,
   "metadata": {},
   "outputs": [
    {
     "data": {
      "text/plain": [
       "['15', 'Recoletos', 'True', 'None', ['Recoletos', '15'], '8']"
      ]
     },
     "execution_count": 190,
     "metadata": {},
     "output_type": "execute_result"
    }
   ],
   "source": [
    "info_list"
   ]
  },
  {
   "cell_type": "markdown",
   "metadata": {},
   "source": [
    "### Ejercicio 2."
   ]
  },
  {
   "cell_type": "markdown",
   "metadata": {},
   "source": [
    "Necesitarás `info_list` para continuar con este ejercicio. Recuerda no usar ninguna variable excepto `info_list`.\n",
    "\n",
    "Imprime lo siguiente. No uses funciones y/o bucles."
   ]
  },
  {
   "cell_type": "markdown",
   "metadata": {},
   "source": [
    " 1. Suma el número de El Puente y las horas que dormiste anoche."
   ]
  },
  {
   "cell_type": "markdown",
   "metadata": {},
   "source": [
    "2. Concatena el número de El Puente, el nombre de la calle, tus gustos personales y las horas que has dormido. Todos ellos deben ir separados por `\" --> \"`."
   ]
  },
  {
   "cell_type": "code",
   "execution_count": 191,
   "metadata": {},
   "outputs": [
    {
     "data": {
      "text/plain": [
       "23"
      ]
     },
     "execution_count": 191,
     "metadata": {},
     "output_type": "execute_result"
    }
   ],
   "source": [
    "int(info_list[0]) + int(info_list[-1])"
   ]
  },
  {
   "cell_type": "markdown",
   "metadata": {},
   "source": [
    "3. Acceder a la lista que se encuentra en la cuarta posición de **info_list** e imprimir el resultado de:\n",
    "     - La concatenación de los dos elementos contenidos en la lista que se encuentra en la cuarta posición de **info_list**.\n",
    "     - La multiplicación de la longitud de la lista y la longitud del nombre de la calle.\n",
    "    \n",
    "   Si en la cuarta posición de **info_list** no encuentras ninguna lista, vuelve al Ejercicio 1, por favor."
   ]
  },
  {
   "cell_type": "code",
   "execution_count": 196,
   "metadata": {},
   "outputs": [
    {
     "name": "stdout",
     "output_type": "stream",
     "text": [
      "Recoletos 15\n"
     ]
    }
   ],
   "source": [
    "print (str((info_list[4][0])) + \" \"+ str((info_list[4][1])))"
   ]
  },
  {
   "cell_type": "code",
   "execution_count": 170,
   "metadata": {},
   "outputs": [
    {
     "data": {
      "text/plain": [
       "6"
      ]
     },
     "execution_count": 170,
     "metadata": {},
     "output_type": "execute_result"
    }
   ],
   "source": [
    "len(info_list)"
   ]
  },
  {
   "cell_type": "code",
   "execution_count": 171,
   "metadata": {},
   "outputs": [
    {
     "data": {
      "text/plain": [
       "9"
      ]
     },
     "execution_count": 171,
     "metadata": {},
     "output_type": "execute_result"
    }
   ],
   "source": [
    "len(info_list[1])"
   ]
  },
  {
   "cell_type": "code",
   "execution_count": 172,
   "metadata": {},
   "outputs": [
    {
     "data": {
      "text/plain": [
       "54"
      ]
     },
     "execution_count": 172,
     "metadata": {},
     "output_type": "execute_result"
    }
   ],
   "source": [
    "len(info_list) * len(info_list[1])"
   ]
  },
  {
   "cell_type": "markdown",
   "metadata": {},
   "source": [
    "### Ejercicio 3."
   ]
  },
  {
   "cell_type": "markdown",
   "metadata": {},
   "source": [
    "1. Obtenga la entrada del usuario utilizando input(\"Introduzca su edad: \"). 2. Si el usuario tiene 18 años o más, dar respuesta: Tiene edad suficiente para conducir. Si es menor de 18, se le pide que espere los años que le faltan."
   ]
  },
  {
   "cell_type": "code",
   "execution_count": 202,
   "metadata": {},
   "outputs": [
    {
     "name": "stdout",
     "output_type": "stream",
     "text": [
      "Debe esperar 5 años\n"
     ]
    }
   ],
   "source": [
    "edad = int(input(\"Introduzca su edad: \"))\n",
    "\n",
    "if edad >= 18:\n",
    "    print (\"Tiene edad suficiente para conducir\")\n",
    "else:\n",
    "    print (\"Debe esperar\", 18 - int(edad),\"años\" )"
   ]
  },
  {
   "cell_type": "markdown",
   "metadata": {},
   "source": [
    "2. Compara los valores de **mi_edad** y **tu_edad** utilizando if/else. ¿Quién es mayor (tú o yo)? Utiliza input(\"Introduce tu edad: \") para obtener **tu_edad** como entrada. **Mi_edad** es siempre tu edad, porque eres tú quien codifica el programa."
   ]
  },
  {
   "cell_type": "code",
   "execution_count": 211,
   "metadata": {},
   "outputs": [
    {
     "name": "stdout",
     "output_type": "stream",
     "text": [
      "Yo soy mayor que tu\n"
     ]
    }
   ],
   "source": [
    "mi_edad = 33\n",
    "tu_edad = int(input(\"Introduce tu edad? \"))\n",
    "\n",
    "if tu_edad > mi_edad:\n",
    "    print (\"Tu eres mayor que yo\")\n",
    "else:\n",
    "    print (\"Yo soy mayor que tu\")"
   ]
  },
  {
   "cell_type": "markdown",
   "metadata": {},
   "source": [
    "3. Obtenga dos números del usuario utilizando el prompt de entrada. Si a es mayor que b devuelve \"a es mayor que b\", si a es menor que b devuelve \"a es menor que b\", si no \"a es igual a b\"."
   ]
  },
  {
   "cell_type": "code",
   "execution_count": 209,
   "metadata": {},
   "outputs": [
    {
     "name": "stdout",
     "output_type": "stream",
     "text": [
      "el numero 30.0 es mayor que el número 5.2\n"
     ]
    }
   ],
   "source": [
    "a = float(input(\"Escribe un número \"))\n",
    "b = float(input(\"Escribe otro número \"))\n",
    "\n",
    "if a > b:\n",
    "    print (\"el numero\", a, \"es mayor que el número\", b)\n",
    "elif a < b:\n",
    "    print (\"el numero\", a, \"es menor que el número\", b)\n",
    "else:\n",
    "    print (\"el numero\", a, \"es igual que el número\", b)"
   ]
  },
  {
   "cell_type": "markdown",
   "metadata": {},
   "source": [
    "### Bonus track. "
   ]
  },
  {
   "cell_type": "markdown",
   "metadata": {},
   "source": [
    "Declare cuatro variables:\n",
    "- Una variable de cadena que contiene tu apellido.\n",
    "- Dos variables enteras: una, con el número de la calle en la que vives, y dos, con la edad del compañero de clase sentado a tu derecha.\n",
    "    Si estás en el extremo derecho de la mesa, busca a tu compañero de clase a tu izquierda.\n",
    "    Si estás a distancia, elige a uno de tus compañeros que también esté a distancia.\n",
    "- Una lista con las variables que acabas de declarar."
   ]
  },
  {
   "cell_type": "code",
   "execution_count": 213,
   "metadata": {},
   "outputs": [
    {
     "data": {
      "text/plain": [
       "['Ocanto', 89, 19]"
      ]
     },
     "execution_count": 213,
     "metadata": {},
     "output_type": "execute_result"
    }
   ],
   "source": [
    "apellido = \"Ocanto\"\n",
    "num_calle = 89\n",
    "compa_salon_edad = 19\n",
    "var_juntas = [apellido, num_calle, compa_salon_edad]\n",
    "var_juntas"
   ]
  },
  {
   "cell_type": "markdown",
   "metadata": {},
   "source": [
    "Utilizando un bucle **for** imprime cada elemento de la lista que acabas de crear.\n",
    "    \n"
   ]
  },
  {
   "cell_type": "code",
   "execution_count": 214,
   "metadata": {},
   "outputs": [
    {
     "name": "stdout",
     "output_type": "stream",
     "text": [
      "Ocanto\n",
      "89\n",
      "19\n"
     ]
    }
   ],
   "source": [
    "for i in var_juntas:\n",
    "    print (i)"
   ]
  },
  {
   "cell_type": "markdown",
   "metadata": {},
   "source": [
    "Utilizando un **bucle for** y un **if** asegúrate de que sólo imprimes el elemento de la lista que es una cadena\n",
    "(Tu apellido)."
   ]
  },
  {
   "cell_type": "code",
   "execution_count": 229,
   "metadata": {},
   "outputs": [
    {
     "name": "stdout",
     "output_type": "stream",
     "text": [
      "Ocanto\n",
      "Ocanto\n",
      "Ocanto\n"
     ]
    }
   ],
   "source": [
    "for i in var_juntas:\n",
    "    if apellido:\n",
    "        print (apellido)"
   ]
  },
  {
   "cell_type": "markdown",
   "metadata": {},
   "source": [
    "**Well done!**"
   ]
  },
  {
   "cell_type": "markdown",
   "metadata": {},
   "source": [
    "### Bonus track of the bonus track.\n",
    "\n",
    "La siguiente lista contiene algunas frutas:\n",
    "    \n",
    "`fruits = ['banana', 'orange', 'mango', 'lemon']`\n",
    "\n",
    "Si una fruta no existe en la lista añade la fruta a la lista e imprime la lista modificada. Si la fruta existe print('Esa fruta ya existe en la lista')"
   ]
  },
  {
   "cell_type": "code",
   "execution_count": 251,
   "metadata": {},
   "outputs": [
    {
     "name": "stdout",
     "output_type": "stream",
     "text": [
      "['banana', 'orange', 'mango', 'lemon', 'coco']\n"
     ]
    }
   ],
   "source": [
    "fruits = ['banana', 'orange', 'mango', 'lemon']\n",
    "\n",
    "usuario = input(\"Escribe una fruta: \")\n",
    "\n",
    "if usuario in fruits:\n",
    "    print(\"Esa fruta ya existe en la lista\")\n",
    "else: \n",
    "    fruits.append(usuario)\n",
    "    print(fruits)\n"
   ]
  },
  {
   "cell_type": "markdown",
   "metadata": {},
   "source": [
    "![\"hola\"](https://preview.redd.it/wk843smkri441.jpg?width=960&crop=smart&auto=webp&s=1a4d7a5ddeef38c03334d275afe3a9dd33866ce8)"
   ]
  },
  {
   "cell_type": "code",
   "execution_count": null,
   "metadata": {},
   "outputs": [],
   "source": []
  }
 ],
 "metadata": {
  "kernelspec": {
   "display_name": "Python 3",
   "language": "python",
   "name": "python3"
  },
  "language_info": {
   "codemirror_mode": {
    "name": "ipython",
    "version": 3
   },
   "file_extension": ".py",
   "mimetype": "text/x-python",
   "name": "python",
   "nbconvert_exporter": "python",
   "pygments_lexer": "ipython3",
   "version": "3.11.4"
  }
 },
 "nbformat": 4,
 "nbformat_minor": 4
}

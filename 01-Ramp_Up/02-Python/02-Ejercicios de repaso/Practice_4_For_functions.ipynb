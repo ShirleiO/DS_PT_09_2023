{
 "cells": [
  {
   "cell_type": "markdown",
   "metadata": {},
   "source": [
    "# Python | day 4 | for loop, functions (feat. basics & if/else) "
   ]
  },
  {
   "cell_type": "markdown",
   "metadata": {},
   "source": [
    "### Ejercicio 0.1 - Conceptos básicos de Python\n",
    "\n",
    "1. ¿Qué usamos para hacer un salto de línea en una impresión? ¿Y para un tabulador?"
   ]
  },
  {
   "cell_type": "code",
   "execution_count": 195,
   "metadata": {},
   "outputs": [
    {
     "name": "stdout",
     "output_type": "stream",
     "text": [
      "salto\n",
      " de linea\n",
      "\t de tabulador\n"
     ]
    }
   ],
   "source": [
    "print (\"salto\\n de linea\")\n",
    "print (\"\\t de tabulador\")\n"
   ]
  },
  {
   "cell_type": "markdown",
   "metadata": {},
   "source": [
    "2. Haz un conversor de dólares a euros. Tendrás que utilizar la entrada"
   ]
  },
  {
   "cell_type": "code",
   "execution_count": 196,
   "metadata": {},
   "outputs": [
    {
     "name": "stdout",
     "output_type": "stream",
     "text": [
      "Tu cambio seran 202.35 €\n"
     ]
    }
   ],
   "source": [
    "conversion = 1 * 0.95\n",
    "\n",
    "usuario = float(input(\"Cuantos dolares quiere cambiar a euros? \"))\n",
    "\n",
    "conversor_dol_euro = usuario *0.95\n",
    "\n",
    "print (\"Tu cambio seran\", conversor_dol_euro,\"€\")"
   ]
  },
  {
   "cell_type": "markdown",
   "metadata": {},
   "source": [
    "3. Declara dos cadenas, una será tu nombre y la otra tu apellido. Declara tu edad en otra variable. Imprime una sentencia que incluya esas variables, usando ```f{}``. ¿Qué es eso?"
   ]
  },
  {
   "cell_type": "code",
   "execution_count": 197,
   "metadata": {},
   "outputs": [
    {
     "name": "stdout",
     "output_type": "stream",
     "text": [
      "Hola, mi nombre es Shirlei Ocanto, y tengo 33 años\n"
     ]
    }
   ],
   "source": [
    "nombre = \"Shirlei\"\n",
    "apellido = \"Ocanto\"\n",
    "edad = 33\n",
    "\n",
    "saludo = \"Hola, mi nombre es {} {}, y tengo {} años\"\n",
    "print (saludo.format(nombre, apellido, edad))"
   ]
  },
  {
   "cell_type": "markdown",
   "metadata": {},
   "source": [
    "4. Dada la lista `[4,7, -3]`, calcula su máximo, mínimo y suma."
   ]
  },
  {
   "cell_type": "code",
   "execution_count": 198,
   "metadata": {},
   "outputs": [
    {
     "name": "stdout",
     "output_type": "stream",
     "text": [
      "7\n",
      "-3\n",
      "8\n"
     ]
    }
   ],
   "source": [
    "lista_num = [4,7, -3]\n",
    "print (max(lista_num))\n",
    "print (min(lista_num))\n",
    "print (sum(lista_num))"
   ]
  },
  {
   "cell_type": "markdown",
   "metadata": {},
   "source": [
    "5. Redondea `38.38276252728` a 5 decimales.\n"
   ]
  },
  {
   "cell_type": "code",
   "execution_count": 199,
   "metadata": {},
   "outputs": [
    {
     "name": "stdout",
     "output_type": "stream",
     "text": [
      "38.38276\n"
     ]
    }
   ],
   "source": [
    "num_2_round = 38.38276252728\n",
    "print (round(num_2_round, 5))"
   ]
  },
  {
   "cell_type": "markdown",
   "metadata": {},
   "source": [
    "6. Pon la frase \"Born to be wild\" en mayúsculas, luego en minúsculas, divídela por espacios y, por último, sustituye \"wild\" por \"Geek\"."
   ]
  },
  {
   "cell_type": "code",
   "execution_count": 200,
   "metadata": {},
   "outputs": [
    {
     "name": "stdout",
     "output_type": "stream",
     "text": [
      "BORN TO BE WILD\n",
      "born to be wild\n",
      "Born to be Geek\n"
     ]
    }
   ],
   "source": [
    "frase_ = \"Born to be wild\"\n",
    "frase_CAP = frase_.upper()\n",
    "print(frase_CAP)\n",
    "frase_min = frase_.lower()\n",
    "print(frase_min)\n",
    "frase_replace = frase_.replace(\"wild\", \"Geek\")\n",
    "print (frase_replace)"
   ]
  },
  {
   "cell_type": "markdown",
   "metadata": {},
   "source": [
    "7. Crea un programa en el que se recojan dos entradas, y la salida del programa sea un booleano que indique al usuario si esas entradas son iguales o no.\n"
   ]
  },
  {
   "cell_type": "code",
   "execution_count": 201,
   "metadata": {},
   "outputs": [
    {
     "name": "stdout",
     "output_type": "stream",
     "text": [
      "False No son iguales\n"
     ]
    }
   ],
   "source": [
    "ac = (input(\"Dime algo\"))\n",
    "bd = (input(\"Dime otra cosa\"))\n",
    "\n",
    "if ac == bd:\n",
    "    print(True,\"Son iguales\")\n",
    "else: \n",
    "    print (False,\"No son iguales\")"
   ]
  },
  {
   "cell_type": "markdown",
   "metadata": {},
   "source": [
    "### Ejercicio 0.2 - If/else\n",
    "\n",
    "1. Crea un árbol de decisión utilizando sentencias if/else, para determinar el precio de la entrada al cine. Si la edad del cliente está entre 5 y 15 años, ambos incluidos, el precio será de 5, si es jubilado y la película es una de las `peliculas_descuento`, el precio será de 4. En cualquier otro caso, será de 7 euros.\n",
    "\n",
    "Debes crear la lista de `peliculas_discount` con tus películas favoritas."
   ]
  },
  {
   "cell_type": "code",
   "execution_count": 202,
   "metadata": {},
   "outputs": [
    {
     "name": "stdout",
     "output_type": "stream",
     "text": [
      "5\n"
     ]
    }
   ],
   "source": [
    "edad = 5\n",
    "pelicula_a_ver = (input(\"Que pelicula quieres ver? \"))\n",
    "pelicula_a_ver_min = pelicula_a_ver.lower()\n",
    "\n",
    "pelicula_descuento = [\"Avatar\", \"Titanic\", \"101 Dalmatas\", \"Avengers\", \"Easy A\"]\n",
    "pelicula_min = [i.lower() for i in pelicula_descuento]\n",
    "\n",
    "if edad >= 5 and edad <= 15:\n",
    "    precio = 5\n",
    "elif edad >= 65 and (pelicula_a_ver_min) in (pelicula_min):\n",
    "    precio = 4\n",
    "else: \n",
    "    precio = 7\n",
    "\n",
    "print (precio)"
   ]
  },
  {
   "cell_type": "markdown",
   "metadata": {},
   "source": [
    "### Ejercicio 1 - Para\n",
    "\n",
    "Si encuentras una forma de resolver alguna de estas preguntas sin utilizar el bucle for, no dudes en hacerlo."
   ]
  },
  {
   "cell_type": "markdown",
   "metadata": {},
   "source": [
    "1. Imprime los números entre 0 y 70 que son múltiplos de 3 y 5."
   ]
  },
  {
   "cell_type": "code",
   "execution_count": 203,
   "metadata": {},
   "outputs": [
    {
     "name": "stdout",
     "output_type": "stream",
     "text": [
      "0\n",
      "15\n",
      "30\n",
      "45\n",
      "60\n"
     ]
    }
   ],
   "source": [
    "numeros_mul = range(0,70)\n",
    "    \n",
    "for i in numeros_mul:\n",
    "    if i % 3 == 0 and i % 5 == 0 :\n",
    "        print(i)"
   ]
  },
  {
   "cell_type": "markdown",
   "metadata": {},
   "source": [
    "2. Imprime el siguiente patrón:\n",
    "\n",
    "```python\n",
    "1\n",
    "22\n",
    "333\n",
    "4444\n",
    "55555\n",
    "666666\n",
    "7777777\n",
    "88888888\n",
    "999999999\n",
    "```\n"
   ]
  },
  {
   "cell_type": "code",
   "execution_count": 204,
   "metadata": {},
   "outputs": [
    {
     "name": "stdout",
     "output_type": "stream",
     "text": [
      "<class 'str'>\n",
      "333\n",
      "1\n",
      "22\n",
      "333\n",
      "4444\n",
      "55555\n",
      "666666\n",
      "7777777\n",
      "88888888\n",
      "999999999\n"
     ]
    }
   ],
   "source": [
    "lista_creciente = range(1,10)\n",
    "print (type(str(lista_creciente)))\n",
    "print (str(lista_creciente[2]) * lista_creciente[2])\n",
    "\n",
    "for i in lista_creciente:\n",
    "    print (str(lista_creciente[i-1]) * lista_creciente[i-1])"
   ]
  },
  {
   "cell_type": "markdown",
   "metadata": {
    "collapsed": true
   },
   "source": [
    "3. Dadas dos listas de la misma longitud, crear una tercera lista que contenga la suma de ambas, elemento a elemento."
   ]
  },
  {
   "cell_type": "markdown",
   "metadata": {},
   "source": [
    "```python\n",
    "Example: \n",
    "a = [1,2]\n",
    "b = [4,5]\n",
    "new_list = [5,7]\n",
    "```\n"
   ]
  },
  {
   "cell_type": "code",
   "execution_count": 205,
   "metadata": {},
   "outputs": [
    {
     "name": "stdout",
     "output_type": "stream",
     "text": [
      "[[2, 2], [4, 8]]\n"
     ]
    }
   ],
   "source": [
    "ab = [2,2]\n",
    "bc = [4,8]\n",
    "cd = [ab [0] + bc [0], ab [1] + bc [1]]\n",
    "#cd\n",
    "print (a)"
   ]
  },
  {
   "cell_type": "code",
   "execution_count": 207,
   "metadata": {},
   "outputs": [
    {
     "name": "stdout",
     "output_type": "stream",
     "text": [
      "[6, 13, 16, 48, 19, 123, 3, 90]\n"
     ]
    },
    {
     "ename": "TypeError",
     "evalue": "'int' object is not callable",
     "output_type": "error",
     "traceback": [
      "\u001b[1;31m---------------------------------------------------------------------------\u001b[0m",
      "\u001b[1;31mTypeError\u001b[0m                                 Traceback (most recent call last)",
      "\u001b[1;32mc:\\Users\\shirl\\OneDrive\\Documents\\GitHub\\DS_PT_09_2023\\01-Ramp_Up\\02-Python\\02-Ejercicios de repaso\\Practice_4_For_functions.ipynb Cell 26\u001b[0m line \u001b[0;36m8\n\u001b[0;32m      <a href='vscode-notebook-cell:/c%3A/Users/shirl/OneDrive/Documents/GitHub/DS_PT_09_2023/01-Ramp_Up/02-Python/02-Ejercicios%20de%20repaso/Practice_4_For_functions.ipynb#X65sZmlsZQ%3D%3D?line=4'>5</a>\u001b[0m ejemplo3 \u001b[39m=\u001b[39m [\u001b[39msum\u001b[39m(x) \u001b[39mfor\u001b[39;00m x \u001b[39min\u001b[39;00m \u001b[39mzip\u001b[39m(ejemplo1,ejemplo2)]\n\u001b[0;32m      <a href='vscode-notebook-cell:/c%3A/Users/shirl/OneDrive/Documents/GitHub/DS_PT_09_2023/01-Ramp_Up/02-Python/02-Ejercicios%20de%20repaso/Practice_4_For_functions.ipynb#X65sZmlsZQ%3D%3D?line=5'>6</a>\u001b[0m \u001b[39mprint\u001b[39m(ejemplo3)\n\u001b[1;32m----> <a href='vscode-notebook-cell:/c%3A/Users/shirl/OneDrive/Documents/GitHub/DS_PT_09_2023/01-Ramp_Up/02-Python/02-Ejercicios%20de%20repaso/Practice_4_For_functions.ipynb#X65sZmlsZQ%3D%3D?line=7'>8</a>\u001b[0m \u001b[39mfor\u001b[39;00m i \u001b[39min\u001b[39;00m \u001b[39mrange\u001b[39m(\u001b[39mmin\u001b[39m(\u001b[39mlen\u001b[39;49m(ejemplo1),\u001b[39mlen\u001b[39m(ejemplo2))):\n\u001b[0;32m      <a href='vscode-notebook-cell:/c%3A/Users/shirl/OneDrive/Documents/GitHub/DS_PT_09_2023/01-Ramp_Up/02-Python/02-Ejercicios%20de%20repaso/Practice_4_For_functions.ipynb#X65sZmlsZQ%3D%3D?line=8'>9</a>\u001b[0m     Joined \u001b[39m=\u001b[39m ejemplo1[i]\u001b[39m+\u001b[39mejemplo2[i]\n\u001b[0;32m     <a href='vscode-notebook-cell:/c%3A/Users/shirl/OneDrive/Documents/GitHub/DS_PT_09_2023/01-Ramp_Up/02-Python/02-Ejercicios%20de%20repaso/Practice_4_For_functions.ipynb#X65sZmlsZQ%3D%3D?line=9'>10</a>\u001b[0m     ejemplo4\u001b[39m.\u001b[39mappend(Joined)\n",
      "\u001b[1;31mTypeError\u001b[0m: 'int' object is not callable"
     ]
    }
   ],
   "source": [
    "ejemplo1 = [2,5,5,3,10,35,0,6]\n",
    "ejemplo2 = [4,8,11,45,9,88,3,84]\n",
    "ejemplo4 = []\n",
    "\n",
    "ejemplo3 = [sum(x) for x in zip(ejemplo1,ejemplo2)]\n",
    "print(ejemplo3)\n",
    "\n",
    "for i in range(min(len(ejemplo1),len(ejemplo2))):\n",
    "    Joined = ejemplo1[i]+ejemplo2[i]\n",
    "    ejemplo4.append(Joined)\n",
    "print (ejemplo4)"
   ]
  },
  {
   "cell_type": "code",
   "execution_count": 1,
   "metadata": {},
   "outputs": [
    {
     "name": "stdout",
     "output_type": "stream",
     "text": [
      "[6, 13, 16, 48, 19, 123, 3, 90]\n"
     ]
    }
   ],
   "source": [
    "ejemplo1 = [2,5,5,3,10,35,0,6]\n",
    "ejemplo2 = [4,8,11,45,9,88,3,84]\n",
    "ejemplo4 = []\n",
    "\n",
    "#ejemplo3 = [sum(x) for x in zip(ejemplo1,ejemplo2)]\n",
    "#print(ejemplo3)\n",
    "\n",
    "for i in range(min(len(ejemplo1),len(ejemplo2))):\n",
    "    Joined = ejemplo1[i]+ejemplo2[i]\n",
    "    ejemplo4.append(Joined)\n",
    "print (ejemplo4)"
   ]
  },
  {
   "cell_type": "markdown",
   "metadata": {},
   "source": [
    "4. Obtenga la primera y la segunda mejor puntuación de la lista.\n",
    "La lista contiene duplicados."
   ]
  },
  {
   "cell_type": "code",
   "execution_count": 289,
   "metadata": {},
   "outputs": [
    {
     "data": {
      "text/plain": [
       "[86, 85]"
      ]
     },
     "execution_count": 289,
     "metadata": {},
     "output_type": "execute_result"
    }
   ],
   "source": [
    "scores = [86,86,85,85,85,83,23,45,84,1,2,0]\n",
    "list_2_dic_list = list(dict.fromkeys(scores))\n",
    "high_scores = list_2_dic_list [0:2]\n",
    "high_scores\n",
    "#high_scores = set(sorted(scores))\n",
    "#print(high_scores)\n"
   ]
  },
  {
   "cell_type": "markdown",
   "metadata": {},
   "source": [
    "5. De la lista dada:\n",
    "    \n",
    "    a) Crea listas separadas de cadenas y números.\n",
    "\n",
    "    b) Ordena la lista de cadenas en orden ascendente.\n",
    "\n",
    "    c) Ordena la lista de cadenas en orden descendente\n",
    "\n",
    "    d) Ordenar la lista de números de menor a mayor\n",
    "\n",
    "    e) Ordenar la lista de números de mayor a menor"
   ]
  },
  {
   "cell_type": "code",
   "execution_count": 40,
   "metadata": {},
   "outputs": [
    {
     "name": "stdout",
     "output_type": "stream",
     "text": [
      "[100, 310.28, 27.0, 1000]\n",
      "['Mobile', 'Laptop', 'Camera', 'Speakers', 'Television', 'Laptop Case', 'Camera Lens']\n",
      "['Camera', 'Camera Lens', 'Laptop', 'Laptop Case', 'Mobile', 'Speakers', 'Television']\n",
      "['Television', 'Speakers', 'Mobile', 'Laptop Case', 'Laptop', 'Camera Lens', 'Camera']\n",
      "[27.0, 100, 310.28, 1000]\n",
      "[1000, 310.28, 100, 27.0]\n"
     ]
    }
   ],
   "source": [
    "#gadgets = [\"Mobile\", \"Laptop\", 100, \"Camera\", 310.28, \"Speakers\", 27.00, \"Television\", 1000, \"Laptop Case\", \"Camera Lens\"]\n",
    "gadgets = [\"Mobile\", \"Laptop\", 100, \"Camera\", 310.28, \"Speakers\", 27.00, \"Television\", 1000, \"Laptop Case\", \"Camera Lens\"]\n",
    "\n",
    "numerica = [x for x in gadgets if isinstance (x, (int, float))]\n",
    "print(numerica)\n",
    "\n",
    "palabras = [x for x in gadgets if isinstance (x, str)]\n",
    "print(palabras)\n",
    "\n",
    "palabras.sort()\n",
    "\n",
    "sort_prueba = palabras\n",
    "print(sort_prueba)\n",
    "\n",
    "palabras.reverse()\n",
    "\n",
    "reverse_palabras = palabras\n",
    "print(reverse_palabras)\n",
    "\n",
    "numerica.sort()\n",
    "\n",
    "sort_numerica = numerica\n",
    "print(sort_numerica)\n",
    "\n",
    "numerica.reverse()\n",
    "\n",
    "reverse_numerica = numerica\n",
    "print(reverse_numerica)\n",
    "\n"
   ]
  },
  {
   "cell_type": "markdown",
   "metadata": {},
   "source": [
    "6. Haz una lista de diez alienígenas, cada uno de los cuales es de un color: 'rojo', 'verde' o 'azul'.\n",
    "    - Puedes acortarlo a 'r', 'g' y 'b' si quieres, pero si eliges esta opción tienes que incluir un comentario explicando qué significan r, g y b.\n",
    "    - Los alienígenas rojos valen 5 puntos, los verdes valen 10 puntos y los azules valen 20 puntos.\n",
    "    - Utilice un bucle for para determinar el número de puntos que ganaría un jugador por destruir todos los alienígenas de su lista."
   ]
  },
  {
   "cell_type": "code",
   "execution_count": null,
   "metadata": {},
   "outputs": [],
   "source": []
  },
  {
   "cell_type": "markdown",
   "metadata": {},
   "source": [
    "### Ejercicio 2 - Funciones"
   ]
  },
  {
   "cell_type": "markdown",
   "metadata": {},
   "source": [
    "1. Escribe un programa de funciones para sumar dos números diferentes dados."
   ]
  },
  {
   "cell_type": "code",
   "execution_count": 229,
   "metadata": {},
   "outputs": [
    {
     "data": {
      "text/plain": [
       "56.0"
      ]
     },
     "execution_count": 229,
     "metadata": {},
     "output_type": "execute_result"
    }
   ],
   "source": [
    "num_1_dado= float(input(\"Agrega un número\"))\n",
    "num_2_dado= float(input(\"Agrega otro número\"))\n",
    "\n",
    "suma_nums = (num_1_dado + num_2_dado)\n",
    "print(suma_nums)\n"
   ]
  },
  {
   "cell_type": "markdown",
   "metadata": {},
   "source": [
    "2. Escribe un programa en Python para convertir una tupla de caracteres en una cadena.\n",
    "\n",
    "    - Ejemplo de tupla: `(\"T\", \"H\", \"E\", \" \", \"B\", \"R\", \"I\", \"D\", \"G\", \"E\")`\n",
    "    - Salida esperada : `\"EL PUENTE\"`\n",
    "    \n",
    "Sugerencia: Conviértalo en una lista."
   ]
  },
  {
   "cell_type": "code",
   "execution_count": 221,
   "metadata": {},
   "outputs": [
    {
     "name": "stdout",
     "output_type": "stream",
     "text": [
      "THE BRIDGE"
     ]
    }
   ],
   "source": [
    "ejemplo_de_tupla= (\"T\", \"H\", \"E\", \" \", \"B\", \"R\", \"I\", \"D\", \"G\", \"E\")\n",
    "new_tuple_list = (list(ejemplo_de_tupla))\n",
    "for i in new_tuple_list:\n",
    "    print (i, end=\"\")"
   ]
  },
  {
   "cell_type": "markdown",
   "metadata": {},
   "source": [
    "3. Escribe un programa en Python que genere una lista cuyos valores sean cuadrados de números entre 1 y 30 (ambos incluidos), y devuelva una lista con los 5 primeros y últimos elementos de la lista."
   ]
  },
  {
   "cell_type": "code",
   "execution_count": null,
   "metadata": {},
   "outputs": [],
   "source": []
  },
  {
   "cell_type": "markdown",
   "metadata": {},
   "source": [
    "4. Crea un programa en Python que calcule el factorial de un número.\n",
    "\n",
    "El programa pedirá al usuario que introduzca un número (entrada) y devolverá el factorial de ese número."
   ]
  },
  {
   "cell_type": "code",
   "execution_count": null,
   "metadata": {},
   "outputs": [],
   "source": []
  },
  {
   "cell_type": "markdown",
   "metadata": {},
   "source": [
    "5. Crea un programa que calcule la media.\n",
    "\n",
    "El programa pedirá al usuario que especifique cuántos números quiere introducir, y mostrará un aviso para incluir número a número a una lista, y luego calculará la media de cada número de esa lista."
   ]
  },
  {
   "cell_type": "code",
   "execution_count": null,
   "metadata": {},
   "outputs": [],
   "source": []
  }
 ],
 "metadata": {
  "kernelspec": {
   "display_name": "Python 3",
   "language": "python",
   "name": "python3"
  },
  "language_info": {
   "codemirror_mode": {
    "name": "ipython",
    "version": 3
   },
   "file_extension": ".py",
   "mimetype": "text/x-python",
   "name": "python",
   "nbconvert_exporter": "python",
   "pygments_lexer": "ipython3",
   "version": "3.11.4"
  }
 },
 "nbformat": 4,
 "nbformat_minor": 4
}
